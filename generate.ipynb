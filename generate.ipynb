{
 "cells": [
  {
   "cell_type": "code",
   "execution_count": null,
   "metadata": {},
   "outputs": [],
   "source": [
    "import torch\n",
    "from transformers import AutoTokenizer, AutoModelForCausalLM, BitsAndBytesConfig\n",
    "import sys, getopt"
   ]
  },
  {
   "cell_type": "code",
   "execution_count": null,
   "metadata": {},
   "outputs": [],
   "source": [
    "model_id = \"EleutherAI/gpt-neox-20b\"\n",
    "device = f'cuda:{torch.cuda.current_device()}' if torch.cuda.is_available() else 'cpu'\n",
    "print('La ejecución se realizará en:',device)"
   ]
  },
  {
   "cell_type": "code",
   "execution_count": null,
   "metadata": {},
   "outputs": [],
   "source": [
    "def load_model(device):\n",
    "\n",
    "    model_id = \"EleutherAI/gpt-neox-20b\"\n",
    "    bnb_config = BitsAndBytesConfig(\n",
    "        load_in_4bit=True,\n",
    "        bnb_4bit_use_double_quant=True,\n",
    "        bnb_4bit_quant_type=\"nf4\",\n",
    "        bnb_4bit_compute_dtype=torch.bfloat16\n",
    "    )\n",
    "\n",
    "    tokenizer = AutoTokenizer.from_pretrained(model_id)\n",
    "    model = AutoModelForCausalLM.from_pretrained(model_id, quantization_config=bnb_config, device_map=device)\n",
    "\n",
    "    return model, tokenizer\n",
    "\n",
    "def generate(input, device):\n",
    "\n",
    "    model, tokenizer = load_model(device)\n",
    "    inputs = tokenizer(input, return_tensors=\"pt\").to(device)\n",
    "    outputs = model.generate(**inputs, max_new_tokens=20)\n",
    "    result = tokenizer.decode(outputs[0], skip_special_tokens=True)\n",
    "\n",
    "    return result"
   ]
  },
  {
   "cell_type": "code",
   "execution_count": null,
   "metadata": {},
   "outputs": [],
   "source": [
    "def main(argv, device):\n",
    "    input = ''\n",
    "    output = ''\n",
    "\n",
    "    try:\n",
    "        opts, args = getopt.getopt(argv,\"hi:o:\",[\"input=\",\"output=\"])\n",
    "    except getopt.GetoptError:\n",
    "        print ('test.py -i <input> -o <output>')\n",
    "        sys.exit(2)\n",
    "\n",
    "    for opt, arg in opts:\n",
    "        if opt in (\"-i\", \"--input\"):\n",
    "            input = arg\n",
    "        elif opt in (\"-o\", \"--output\"):\n",
    "            output = arg\n",
    "\n",
    "    if input != '':\n",
    "        generated = generate(input, device)\n",
    "        print(generated)\n",
    "\n",
    "if __name__ == \"__main__\":\n",
    "   main(sys.argv[1:], device)"
   ]
  }
 ],
 "metadata": {
  "kernelspec": {
   "display_name": "Python 3",
   "language": "python",
   "name": "python3"
  },
  "language_info": {
   "codemirror_mode": {
    "name": "ipython",
    "version": 3
   },
   "file_extension": ".py",
   "mimetype": "text/x-python",
   "name": "python",
   "nbconvert_exporter": "python",
   "pygments_lexer": "ipython3",
   "version": "3.7.9"
  }
 },
 "nbformat": 4,
 "nbformat_minor": 2
}
